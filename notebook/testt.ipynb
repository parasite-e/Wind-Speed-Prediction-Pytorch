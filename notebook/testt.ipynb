{
 "cells": [
  {
   "cell_type": "code",
   "execution_count": 2,
   "id": "0717d196",
   "metadata": {},
   "outputs": [],
   "source": [
    "# Data\n",
    "import numpy as np\n",
    "import pandas  as pd\n",
    "\n",
    "# torch\n",
    "import torch\n",
    "import torch.nn as nn\n",
    "import torch.optim as optim\n",
    "import torch.utils.data as data\n",
    "import torch.nn.functional as F\n",
    "import torch.utils.data as data\n",
    "# Preprocessing\n",
    "from sklearn.preprocessing import MinMaxScaler\n",
    "\n",
    "# Visualization\n",
    "import seaborn as sns\n",
    "import matplotlib.pyplot as plt\n",
    "import plotly.express as px\n",
    "import plotly.graph_objects as go\n",
    "from plotly.subplots import make_subplots\n",
    "\n",
    "# Evaluation \n",
    "from sklearn.metrics import mean_absolute_error, mean_squared_error, mean_squared_log_error"
   ]
  },
  {
   "cell_type": "code",
   "execution_count": 3,
   "id": "1d0d21ab",
   "metadata": {},
   "outputs": [
    {
     "name": "stdout",
     "output_type": "stream",
     "text": [
      "Using device: cuda\n"
     ]
    }
   ],
   "source": [
    "torch.manual_seed(42)\n",
    "if torch.cuda.is_available():\n",
    "    torch.cuda.manual_seed_all(42)\n",
    "\n",
    "\n",
    "device = torch.device(\"cuda\" if torch.cuda.is_available() else \"cpu\")\n",
    "print(f\"Using device: {device}\")\n",
    "\n",
    "\n",
    "scaler = torch.amp.GradScaler() if device.type == \"cuda\" else None"
   ]
  },
  {
   "cell_type": "code",
   "execution_count": 4,
   "id": "be3b1d0e",
   "metadata": {},
   "outputs": [],
   "source": [
    "def load_data_in_chunks(file_path, chunksize=10000):\n",
    "    chunks = []\n",
    "    for chunk in pd.read_csv(file_path, chunksize=chunksize):\n",
    "        chunks.append(chunk)\n",
    "    return pd.concat(chunks, ignore_index=True)"
   ]
  },
  {
   "cell_type": "code",
   "execution_count": 5,
   "id": "a0ec2be6",
   "metadata": {},
   "outputs": [
    {
     "name": "stderr",
     "output_type": "stream",
     "text": [
      "/tmp/ipykernel_309729/2525802060.py:3: FutureWarning: DataFrame.fillna with 'method' is deprecated and will raise in a future version. Use obj.ffill() or obj.bfill() instead.\n",
      "  weather = weather.fillna(method='ffill')\n"
     ]
    }
   ],
   "source": [
    "weather = load_data_in_chunks('/home/kzaman/weather/weather.csv')\n",
    "weather.index = pd.to_datetime(weather['datetime'], format='%m/%d/%Y %H:%M')\n",
    "weather = weather.fillna(method='ffill')"
   ]
  },
  {
   "cell_type": "code",
   "execution_count": 6,
   "id": "c33bf11c",
   "metadata": {},
   "outputs": [
    {
     "data": {
      "text/plain": [
       "datetime            0\n",
       "Wind Speed          0\n",
       "Wind Direction      0\n",
       "Solar Irradiance    0\n",
       "Temperature         0\n",
       "Clearness index     0\n",
       "dtype: int64"
      ]
     },
     "execution_count": 6,
     "metadata": {},
     "output_type": "execute_result"
    }
   ],
   "source": [
    "weather.isnull().sum()"
   ]
  },
  {
   "cell_type": "code",
   "execution_count": 7,
   "id": "dc7e215d",
   "metadata": {},
   "outputs": [
    {
     "data": {
      "text/html": [
       "<div>\n",
       "<style scoped>\n",
       "    .dataframe tbody tr th:only-of-type {\n",
       "        vertical-align: middle;\n",
       "    }\n",
       "\n",
       "    .dataframe tbody tr th {\n",
       "        vertical-align: top;\n",
       "    }\n",
       "\n",
       "    .dataframe thead th {\n",
       "        text-align: right;\n",
       "    }\n",
       "</style>\n",
       "<table border=\"1\" class=\"dataframe\">\n",
       "  <thead>\n",
       "    <tr style=\"text-align: right;\">\n",
       "      <th></th>\n",
       "      <th>datetime</th>\n",
       "      <th>Wind Speed</th>\n",
       "      <th>Wind Direction</th>\n",
       "      <th>Solar Irradiance</th>\n",
       "      <th>Temperature</th>\n",
       "      <th>Clearness index</th>\n",
       "    </tr>\n",
       "    <tr>\n",
       "      <th>datetime</th>\n",
       "      <th></th>\n",
       "      <th></th>\n",
       "      <th></th>\n",
       "      <th></th>\n",
       "      <th></th>\n",
       "      <th></th>\n",
       "    </tr>\n",
       "  </thead>\n",
       "  <tbody>\n",
       "    <tr>\n",
       "      <th>2023-12-31 19:00:00</th>\n",
       "      <td>12/31/2023 19:00</td>\n",
       "      <td>4.99</td>\n",
       "      <td>323.02</td>\n",
       "      <td>0.0</td>\n",
       "      <td>21.12</td>\n",
       "      <td>-999.0</td>\n",
       "    </tr>\n",
       "    <tr>\n",
       "      <th>2023-12-31 20:00:00</th>\n",
       "      <td>12/31/2023 20:00</td>\n",
       "      <td>5.25</td>\n",
       "      <td>320.25</td>\n",
       "      <td>0.0</td>\n",
       "      <td>20.61</td>\n",
       "      <td>-999.0</td>\n",
       "    </tr>\n",
       "    <tr>\n",
       "      <th>2023-12-31 21:00:00</th>\n",
       "      <td>12/31/2023 21:00</td>\n",
       "      <td>5.39</td>\n",
       "      <td>320.77</td>\n",
       "      <td>0.0</td>\n",
       "      <td>20.14</td>\n",
       "      <td>-999.0</td>\n",
       "    </tr>\n",
       "    <tr>\n",
       "      <th>2023-12-31 22:00:00</th>\n",
       "      <td>12/31/2023 22:00</td>\n",
       "      <td>5.61</td>\n",
       "      <td>324.76</td>\n",
       "      <td>0.0</td>\n",
       "      <td>19.69</td>\n",
       "      <td>-999.0</td>\n",
       "    </tr>\n",
       "    <tr>\n",
       "      <th>2023-12-31 23:00:00</th>\n",
       "      <td>12/31/2023 23:00</td>\n",
       "      <td>5.91</td>\n",
       "      <td>329.57</td>\n",
       "      <td>0.0</td>\n",
       "      <td>19.20</td>\n",
       "      <td>-999.0</td>\n",
       "    </tr>\n",
       "  </tbody>\n",
       "</table>\n",
       "</div>"
      ],
      "text/plain": [
       "                             datetime  Wind Speed  Wind Direction  \\\n",
       "datetime                                                            \n",
       "2023-12-31 19:00:00  12/31/2023 19:00        4.99          323.02   \n",
       "2023-12-31 20:00:00  12/31/2023 20:00        5.25          320.25   \n",
       "2023-12-31 21:00:00  12/31/2023 21:00        5.39          320.77   \n",
       "2023-12-31 22:00:00  12/31/2023 22:00        5.61          324.76   \n",
       "2023-12-31 23:00:00  12/31/2023 23:00        5.91          329.57   \n",
       "\n",
       "                     Solar Irradiance  Temperature   Clearness index  \n",
       "datetime                                                              \n",
       "2023-12-31 19:00:00               0.0         21.12           -999.0  \n",
       "2023-12-31 20:00:00               0.0         20.61           -999.0  \n",
       "2023-12-31 21:00:00               0.0         20.14           -999.0  \n",
       "2023-12-31 22:00:00               0.0         19.69           -999.0  \n",
       "2023-12-31 23:00:00               0.0         19.20           -999.0  "
      ]
     },
     "execution_count": 7,
     "metadata": {},
     "output_type": "execute_result"
    }
   ],
   "source": [
    "weather.tail()"
   ]
  },
  {
   "cell_type": "code",
   "execution_count": 8,
   "id": "14010371",
   "metadata": {},
   "outputs": [
    {
     "name": "stdout",
     "output_type": "stream",
     "text": [
      "Train set shape: (166560, 6)\n",
      "Test set shape: (8760, 6)\n"
     ]
    }
   ],
   "source": [
    "import pandas as pd\n",
    "\n",
    "# Let's assume your full data is in a DataFrame called `df`\n",
    "# and the datetime column is named 'datetime' and already parsed.\n",
    "\n",
    "\n",
    "# Step 3: Define the split\n",
    "train_df = weather.loc[:'2022-12-31 23:00:00']  # Up to end of 19th year\n",
    "test_df = weather.loc['2023-01-01 00:00:00':]   # Start of 20th year\n",
    "\n",
    "# Step 4: Check the result\n",
    "print(f\"Train set shape: {train_df.shape}\")\n",
    "print(f\"Test set shape: {test_df.shape}\")\n"
   ]
  },
  {
   "cell_type": "code",
   "execution_count": 9,
   "id": "58a1e192",
   "metadata": {},
   "outputs": [
    {
     "data": {
      "text/html": [
       "<div>\n",
       "<style scoped>\n",
       "    .dataframe tbody tr th:only-of-type {\n",
       "        vertical-align: middle;\n",
       "    }\n",
       "\n",
       "    .dataframe tbody tr th {\n",
       "        vertical-align: top;\n",
       "    }\n",
       "\n",
       "    .dataframe thead th {\n",
       "        text-align: right;\n",
       "    }\n",
       "</style>\n",
       "<table border=\"1\" class=\"dataframe\">\n",
       "  <thead>\n",
       "    <tr style=\"text-align: right;\">\n",
       "      <th></th>\n",
       "      <th>datetime</th>\n",
       "      <th>Wind Speed</th>\n",
       "      <th>Wind Direction</th>\n",
       "      <th>Solar Irradiance</th>\n",
       "      <th>Temperature</th>\n",
       "      <th>Clearness index</th>\n",
       "    </tr>\n",
       "    <tr>\n",
       "      <th>datetime</th>\n",
       "      <th></th>\n",
       "      <th></th>\n",
       "      <th></th>\n",
       "      <th></th>\n",
       "      <th></th>\n",
       "      <th></th>\n",
       "    </tr>\n",
       "  </thead>\n",
       "  <tbody>\n",
       "    <tr>\n",
       "      <th>2023-01-01 00:00:00</th>\n",
       "      <td>1/1/2023 0:00</td>\n",
       "      <td>4.33</td>\n",
       "      <td>18.96</td>\n",
       "      <td>0.0</td>\n",
       "      <td>18.42</td>\n",
       "      <td>-999.0</td>\n",
       "    </tr>\n",
       "    <tr>\n",
       "      <th>2023-01-01 01:00:00</th>\n",
       "      <td>1/1/2023 1:00</td>\n",
       "      <td>4.64</td>\n",
       "      <td>24.24</td>\n",
       "      <td>0.0</td>\n",
       "      <td>17.99</td>\n",
       "      <td>-999.0</td>\n",
       "    </tr>\n",
       "    <tr>\n",
       "      <th>2023-01-01 02:00:00</th>\n",
       "      <td>1/1/2023 2:00</td>\n",
       "      <td>4.75</td>\n",
       "      <td>29.48</td>\n",
       "      <td>0.0</td>\n",
       "      <td>17.63</td>\n",
       "      <td>-999.0</td>\n",
       "    </tr>\n",
       "    <tr>\n",
       "      <th>2023-01-01 03:00:00</th>\n",
       "      <td>1/1/2023 3:00</td>\n",
       "      <td>4.58</td>\n",
       "      <td>30.46</td>\n",
       "      <td>0.0</td>\n",
       "      <td>17.36</td>\n",
       "      <td>-999.0</td>\n",
       "    </tr>\n",
       "    <tr>\n",
       "      <th>2023-01-01 04:00:00</th>\n",
       "      <td>1/1/2023 4:00</td>\n",
       "      <td>4.34</td>\n",
       "      <td>26.89</td>\n",
       "      <td>0.0</td>\n",
       "      <td>17.12</td>\n",
       "      <td>-999.0</td>\n",
       "    </tr>\n",
       "  </tbody>\n",
       "</table>\n",
       "</div>"
      ],
      "text/plain": [
       "                          datetime  Wind Speed  Wind Direction  \\\n",
       "datetime                                                         \n",
       "2023-01-01 00:00:00  1/1/2023 0:00        4.33           18.96   \n",
       "2023-01-01 01:00:00  1/1/2023 1:00        4.64           24.24   \n",
       "2023-01-01 02:00:00  1/1/2023 2:00        4.75           29.48   \n",
       "2023-01-01 03:00:00  1/1/2023 3:00        4.58           30.46   \n",
       "2023-01-01 04:00:00  1/1/2023 4:00        4.34           26.89   \n",
       "\n",
       "                     Solar Irradiance  Temperature   Clearness index  \n",
       "datetime                                                              \n",
       "2023-01-01 00:00:00               0.0         18.42           -999.0  \n",
       "2023-01-01 01:00:00               0.0         17.99           -999.0  \n",
       "2023-01-01 02:00:00               0.0         17.63           -999.0  \n",
       "2023-01-01 03:00:00               0.0         17.36           -999.0  \n",
       "2023-01-01 04:00:00               0.0         17.12           -999.0  "
      ]
     },
     "execution_count": 9,
     "metadata": {},
     "output_type": "execute_result"
    }
   ],
   "source": [
    "test_df.head()"
   ]
  },
  {
   "cell_type": "code",
   "execution_count": 10,
   "id": "b0719283",
   "metadata": {},
   "outputs": [
    {
     "name": "stdout",
     "output_type": "stream",
     "text": [
      "<class 'pandas.core.frame.DataFrame'>\n",
      "DatetimeIndex: 175320 entries, 2004-01-01 00:00:00 to 2023-12-31 23:00:00\n",
      "Data columns (total 6 columns):\n",
      " #   Column            Non-Null Count   Dtype  \n",
      "---  ------            --------------   -----  \n",
      " 0   datetime          175320 non-null  object \n",
      " 1   Wind Speed        175320 non-null  float64\n",
      " 2   Wind Direction    175320 non-null  float64\n",
      " 3   Solar Irradiance  175320 non-null  float64\n",
      " 4   Temperature       175320 non-null  float64\n",
      " 5   Clearness index   175320 non-null  float64\n",
      "dtypes: float64(5), object(1)\n",
      "memory usage: 13.4+ MB\n"
     ]
    }
   ],
   "source": [
    "weather.info()"
   ]
  },
  {
   "cell_type": "code",
   "execution_count": 11,
   "id": "2a2f6a30",
   "metadata": {},
   "outputs": [
    {
     "data": {
      "image/png": "[encoded data removed]",
      "text/plain": [
       "<Figure size 900x600 with 2 Axes>"
      ]
     },
     "metadata": {},
     "output_type": "display_data"
    }
   ],
   "source": [
    "correlation_matrix = train_df.iloc[:,1:].corr()\n",
    "fig = plt.figure(figsize=(9,6))\n",
    "sns.heatmap(correlation_matrix,vmax=0.8,square = True, annot= True)\n",
    "plt.show()"
   ]
  },
  {
   "cell_type": "code",
   "execution_count": 11,
   "id": "f34d0414",
   "metadata": {},
   "outputs": [],
   "source": [
    "# Box Plot / Line Plot\n",
    "class plotly_graph:\n",
    "    def __init__(self, data, date):\n",
    "        self.data = data\n",
    "        self.date = date\n",
    "        self.name_lst = ['Wind Speed', 'Wind Direction', 'Solar Irradiance', 'Temperature ', 'Clearness index']\n",
    "        self.box_title = 'Multiple Box Plots'\n",
    "        self.line_title = 'Multiple Line Plots'\n",
    "    \n",
    "#################### function to make subplots ######################\n",
    "    def make_subplot(self, graphs):\n",
    "        fig = make_subplots(rows=2, cols=2, subplot_titles=(self.name_lst))\n",
    "        for i in range(5): fig.add_trace(graphs[i], row=i // 2 + 1, col=i % 2 + 1)\n",
    "        return fig\n",
    "    \n",
    "#################### 1. Box Plot ######################\n",
    "    def box_plot(self):\n",
    "        graph_lsts = []\n",
    "        for i, element in enumerate(self.data.transpose()):\n",
    "            graph_lst = go.Box(y = element,\n",
    "                               name = self.box_title,\n",
    "                               boxpoints = 'outliers',\n",
    "                               line = dict(width=1))    \n",
    "            graph_lsts.append(graph_lst)\n",
    "        fig = self.make_subplot(graph_lsts)\n",
    "        fig.update_layout(title=self.box_title,\n",
    "                          xaxis_title='Columns',\n",
    "                          yaxis_title='Values',\n",
    "                          template = 'simple_white')\n",
    "        fig.show()\n",
    "\n",
    "#################### 2. Line Plot ######################\n",
    "    def line_plot(self):\n",
    "        line_lsts = []\n",
    "        for i, element in enumerate(self.data.transpose()):\n",
    "            line = go.Scatter(x = self.date,\n",
    "                               y = element,\n",
    "                               mode = 'lines',\n",
    "                               name = self.line_title)\n",
    "            line_lsts.append(line)\n",
    "        fig = self.make_subplot(line_lsts)\n",
    "        fig.update_layout(title=self.line_title,\n",
    "                          xaxis_title='Columns',\n",
    "                          yaxis_title='Values',\n",
    "                          template = 'simple_white')\n",
    "        fig.show()"
   ]
  },
  {
   "cell_type": "code",
   "execution_count": 12,
   "id": "f57c20b4",
   "metadata": {},
   "outputs": [],
   "source": [
    "data_ = train_df[['Wind Speed', 'Wind Direction', 'Solar Irradiance', 'Temperature ', 'Clearness index']].values\n",
    "\n",
    "graph = plotly_graph(data_, train_df['datetime'])"
   ]
  },
  {
   "cell_type": "code",
   "execution_count": 14,
   "id": "c08674ad",
   "metadata": {},
   "outputs": [],
   "source": [
    "# graph.box_plot()"
   ]
  },
  {
   "cell_type": "code",
   "execution_count": 51,
   "id": "86f6314f",
   "metadata": {},
   "outputs": [],
   "source": [
    "# graph.line_plot()"
   ]
  },
  {
   "cell_type": "code",
   "execution_count": 12,
   "id": "769f46f7",
   "metadata": {},
   "outputs": [
    {
     "data": {
      "text/plain": [
       "['Wind Speed',\n",
       " 'Wind Direction',\n",
       " 'Solar Irradiance',\n",
       " 'Temperature ',\n",
       " 'Clearness index']"
      ]
     },
     "execution_count": 12,
     "metadata": {},
     "output_type": "execute_result"
    }
   ],
   "source": [
    "cols_to_convert = [col for col in weather.columns if col != 'datetime']\n",
    "cols_to_convert"
   ]
  },
  {
   "cell_type": "code",
   "execution_count": 13,
   "id": "b8197b90",
   "metadata": {},
   "outputs": [
    {
     "name": "stdout",
     "output_type": "stream",
     "text": [
      "Data loaded and preprocessed. Shape: (166560, 6)\n"
     ]
    }
   ],
   "source": [
    "for col in cols_to_convert:\n",
    "    if train_df[col].dtype == 'object':\n",
    "        train_df[col] = train_df[col].str.replace(',', '').astype(float)\n",
    "\n",
    "print(\"Data loaded and preprocessed. Shape:\", train_df.shape)"
   ]
  },
  {
   "cell_type": "code",
   "execution_count": 54,
   "id": "246d0fc6",
   "metadata": {},
   "outputs": [],
   "source": [
    "# new = pd.concat([train_df, test_df], axis=0).reset_index().drop('index', axis=1)\n",
    "# new_timeseries = new[['month', 'day',  'humidity', 'wind_speed', 'meanpressure',  'humidity_pressure_ratio', 'meantemp']].values.astype('float32')"
   ]
  },
  {
   "cell_type": "code",
   "execution_count": 14,
   "id": "bb14e582",
   "metadata": {},
   "outputs": [],
   "source": [
    "tr_timeseries = train_df[cols_to_convert].values.astype('float32')\n",
    "te_timeseries = test_df[cols_to_convert].values.astype('float32')\n",
    "\n",
    "\n",
    "scaler = MinMaxScaler()\n",
    "tr_timeseries = scaler.fit_transform(tr_timeseries)\n",
    "te_timeseries = scaler.transform(te_timeseries)"
   ]
  },
  {
   "cell_type": "code",
   "execution_count": 15,
   "id": "64de847c",
   "metadata": {},
   "outputs": [
    {
     "name": "stderr",
     "output_type": "stream",
     "text": [
      "/tmp/ipykernel_309729/4292692661.py:8: UserWarning: Creating a tensor from a list of numpy.ndarrays is extremely slow. Please consider converting the list to a single numpy.ndarray with numpy.array() before converting to a tensor. (Triggered internally at /pytorch/torch/csrc/utils/tensor_new.cpp:254.)\n",
      "  return torch.tensor(X), torch.tensor(y)\n"
     ]
    }
   ],
   "source": [
    "def create_dataset(dataset, lookback):\n",
    "    X, y = [], []\n",
    "    for i in range(len(dataset)-lookback):\n",
    "        feature = dataset[:,1:5][i:i+lookback]\n",
    "        target = dataset[:, 0][i:i+lookback]\n",
    "        X.append(feature)\n",
    "        y.append(target)\n",
    "    return torch.tensor(X), torch.tensor(y)\n",
    "\n",
    "lookback = 7\n",
    "\n",
    "train, test = tr_timeseries, te_timeseries\n",
    "X_train, y_train = create_dataset(train, lookback=lookback)\n",
    "X_test, y_test = create_dataset(test, lookback=lookback)\n",
    "\n",
    "# modify shape of train and test\n",
    "X_train, X_test = X_train, X_test\n",
    "y_train, y_test = y_train, y_test"
   ]
  },
  {
   "cell_type": "code",
   "execution_count": 16,
   "id": "1061e2ae",
   "metadata": {},
   "outputs": [],
   "source": [
    "loader = data.DataLoader(data.TensorDataset(X_train, y_train),\n",
    "                         batch_size = 32, shuffle = False)"
   ]
  },
  {
   "cell_type": "code",
   "execution_count": 17,
   "id": "0ac50022",
   "metadata": {},
   "outputs": [],
   "source": [
    "class LSTMModel(nn.Module):\n",
    "    def __init__(self):\n",
    "        super().__init__()\n",
    "        self.lstm = nn.LSTM(input_size = 4, \n",
    "                            num_layers = 2,\n",
    "                            hidden_size = 128,  \n",
    "                            batch_first = True, \n",
    "                            bidirectional= True)\n",
    "        \n",
    "        self.dropout = nn.Dropout(0.2)\n",
    "        self.linear1 = nn.Linear(128*2, 64) \n",
    "        self.linear2 = nn.Linear(64, 8) \n",
    "        self.output_linear = nn.Linear(8, 1)\n",
    "        \n",
    "        \n",
    "    def forward(self, x):  \n",
    "        x, _ = self.lstm(x)\n",
    "        x = self.dropout(x)\n",
    "        x = self.linear1(x)\n",
    "        x = self.linear2(x)\n",
    "        x = self.output_linear(x)\n",
    "        return x"
   ]
  },
  {
   "cell_type": "code",
   "execution_count": 19,
   "id": "cf56bcd7",
   "metadata": {},
   "outputs": [
    {
     "name": "stdout",
     "output_type": "stream",
     "text": [
      "LSTMModel(\n",
      "  (lstm): LSTM(4, 128, num_layers=2, batch_first=True, bidirectional=True)\n",
      "  (dropout): Dropout(p=0.2, inplace=False)\n",
      "  (linear1): Linear(in_features=256, out_features=64, bias=True)\n",
      "  (linear2): Linear(in_features=64, out_features=8, bias=True)\n",
      "  (output_linear): Linear(in_features=8, out_features=1, bias=True)\n",
      ")\n"
     ]
    }
   ],
   "source": [
    "print(LSTMModel())"
   ]
  },
  {
   "cell_type": "code",
   "execution_count": 20,
   "id": "f25f7446",
   "metadata": {},
   "outputs": [
    {
     "name": "stderr",
     "output_type": "stream",
     "text": [
      "/home/kzaman/weather/venv/lib/python3.10/site-packages/torch/optim/lr_scheduler.py:62: UserWarning: The verbose parameter is deprecated. Please use get_last_lr() to access the learning rate.\n",
      "  warnings.warn(\n"
     ]
    }
   ],
   "source": [
    "from torch.optim.lr_scheduler import ReduceLROnPlateau\n",
    "\n",
    "# call model\n",
    "model = LSTMModel()\n",
    "device = torch.device('cuda' if torch.cuda.is_available() else 'cpu')\n",
    "model = model.to(device)\n",
    "\n",
    "# optimizer: Adam\n",
    "optimizer = optim.Adam(model.parameters(), lr = 1e-3, weight_decay = 1e-5)\n",
    "\n",
    "# loss func: MSE\n",
    "loss_fn = nn.MSELoss()\n",
    "\n",
    "scheduler = ReduceLROnPlateau(optimizer, mode='min', factor=0.5, patience=5, verbose=True)"
   ]
  },
  {
   "cell_type": "code",
   "execution_count": 22,
   "id": "62c697b2",
   "metadata": {},
   "outputs": [],
   "source": [
    "class CustomEarlyStopping:\n",
    "    def __init__(self, patience=20, delta=0, verbose=False):\n",
    "        self.patience = patience\n",
    "        self.delta = delta\n",
    "        self.verbose = verbose\n",
    "        self.counter = 0\n",
    "        self.best_score = None\n",
    "        self.early_stop = False\n",
    "        self.best_state = None\n",
    "        self.best_y_pred = None\n",
    "    \n",
    "    def __call__(self, val_loss, model, X):\n",
    "        score = -val_loss\n",
    "\n",
    "        if self.best_score is None:\n",
    "            self.best_score = score\n",
    "            self.best_state = model.state_dict()\n",
    "            with torch.no_grad():\n",
    "                self.best_y_pred = model(X)\n",
    "        elif score < self.best_score + self.delta:\n",
    "            self.counter += 1\n",
    "            if self.verbose:\n",
    "                print(f'EarlyStopping counter: {self.counter} out of {self.patience}, score: {self.best_score}')\n",
    "    \n",
    "            if self.counter >= self.patience:\n",
    "                self.early_stop = True\n",
    "        else:\n",
    "            self.best_score = score\n",
    "            self.best_state = model.state_dict()\n",
    "            with torch.no_grad():\n",
    "                self.best_y_pred = model(X)\n",
    "            self.counter = 0\n",
    "            \n",
    "early_stopping = CustomEarlyStopping(patience=15, verbose=True)"
   ]
  },
  {
   "cell_type": "code",
   "execution_count": 24,
   "id": "f207ddeb",
   "metadata": {},
   "outputs": [
    {
     "ename": "OutOfMemoryError",
     "evalue": "CUDA out of memory. Tried to allocate 19.59 GiB. GPU 0 has a total capacity of 15.77 GiB of which 11.16 GiB is free. Including non-PyTorch memory, this process has 2.99 GiB memory in use. Of the allocated memory 2.45 GiB is allocated by PyTorch, and 38.78 MiB is reserved by PyTorch but unallocated. If reserved but unallocated memory is large try setting PYTORCH_CUDA_ALLOC_CONF=expandable_segments:True to avoid fragmentation.  See documentation for Memory Management  (https://pytorch.org/docs/stable/notes/cuda.html#environment-variables)",
     "output_type": "error",
     "traceback": [
      "\u001b[0;31m---------------------------------------------------------------------------\u001b[0m",
      "\u001b[0;31mOutOfMemoryError\u001b[0m                          Traceback (most recent call last)",
      "Cell \u001b[0;32mIn[24], line 23\u001b[0m\n\u001b[1;32m     21\u001b[0m X_train_device \u001b[38;5;241m=\u001b[39m X_train\u001b[38;5;241m.\u001b[39mto(device)\n\u001b[1;32m     22\u001b[0m y_train_device \u001b[38;5;241m=\u001b[39m y_train\u001b[38;5;241m.\u001b[39mto(device)\n\u001b[0;32m---> 23\u001b[0m y_pred \u001b[38;5;241m=\u001b[39m \u001b[43mmodel\u001b[49m\u001b[43m(\u001b[49m\u001b[43mX_train_device\u001b[49m\u001b[43m)\u001b[49m\n\u001b[1;32m     24\u001b[0m train_rmse \u001b[38;5;241m=\u001b[39m np\u001b[38;5;241m.\u001b[39msqrt(loss_fn(y_pred, y_train_device\u001b[38;5;241m.\u001b[39munsqueeze(\u001b[38;5;241m2\u001b[39m)))\n\u001b[1;32m     25\u001b[0m train_preds \u001b[38;5;241m=\u001b[39m y_pred\u001b[38;5;241m.\u001b[39mclone()\u001b[38;5;241m.\u001b[39mdetach()\u001b[38;5;241m.\u001b[39mcpu()\u001b[38;5;241m.\u001b[39mnumpy()\n",
      "File \u001b[0;32m~/weather/venv/lib/python3.10/site-packages/torch/nn/modules/module.py:1739\u001b[0m, in \u001b[0;36mModule._wrapped_call_impl\u001b[0;34m(self, *args, **kwargs)\u001b[0m\n\u001b[1;32m   1737\u001b[0m     \u001b[38;5;28;01mreturn\u001b[39;00m \u001b[38;5;28mself\u001b[39m\u001b[38;5;241m.\u001b[39m_compiled_call_impl(\u001b[38;5;241m*\u001b[39margs, \u001b[38;5;241m*\u001b[39m\u001b[38;5;241m*\u001b[39mkwargs)  \u001b[38;5;66;03m# type: ignore[misc]\u001b[39;00m\n\u001b[1;32m   1738\u001b[0m \u001b[38;5;28;01melse\u001b[39;00m:\n\u001b[0;32m-> 1739\u001b[0m     \u001b[38;5;28;01mreturn\u001b[39;00m \u001b[38;5;28;43mself\u001b[39;49m\u001b[38;5;241;43m.\u001b[39;49m\u001b[43m_call_impl\u001b[49m\u001b[43m(\u001b[49m\u001b[38;5;241;43m*\u001b[39;49m\u001b[43margs\u001b[49m\u001b[43m,\u001b[49m\u001b[43m \u001b[49m\u001b[38;5;241;43m*\u001b[39;49m\u001b[38;5;241;43m*\u001b[39;49m\u001b[43mkwargs\u001b[49m\u001b[43m)\u001b[49m\n",
      "File \u001b[0;32m~/weather/venv/lib/python3.10/site-packages/torch/nn/modules/module.py:1750\u001b[0m, in \u001b[0;36mModule._call_impl\u001b[0;34m(self, *args, **kwargs)\u001b[0m\n\u001b[1;32m   1745\u001b[0m \u001b[38;5;66;03m# If we don't have any hooks, we want to skip the rest of the logic in\u001b[39;00m\n\u001b[1;32m   1746\u001b[0m \u001b[38;5;66;03m# this function, and just call forward.\u001b[39;00m\n\u001b[1;32m   1747\u001b[0m \u001b[38;5;28;01mif\u001b[39;00m \u001b[38;5;129;01mnot\u001b[39;00m (\u001b[38;5;28mself\u001b[39m\u001b[38;5;241m.\u001b[39m_backward_hooks \u001b[38;5;129;01mor\u001b[39;00m \u001b[38;5;28mself\u001b[39m\u001b[38;5;241m.\u001b[39m_backward_pre_hooks \u001b[38;5;129;01mor\u001b[39;00m \u001b[38;5;28mself\u001b[39m\u001b[38;5;241m.\u001b[39m_forward_hooks \u001b[38;5;129;01mor\u001b[39;00m \u001b[38;5;28mself\u001b[39m\u001b[38;5;241m.\u001b[39m_forward_pre_hooks\n\u001b[1;32m   1748\u001b[0m         \u001b[38;5;129;01mor\u001b[39;00m _global_backward_pre_hooks \u001b[38;5;129;01mor\u001b[39;00m _global_backward_hooks\n\u001b[1;32m   1749\u001b[0m         \u001b[38;5;129;01mor\u001b[39;00m _global_forward_hooks \u001b[38;5;129;01mor\u001b[39;00m _global_forward_pre_hooks):\n\u001b[0;32m-> 1750\u001b[0m     \u001b[38;5;28;01mreturn\u001b[39;00m \u001b[43mforward_call\u001b[49m\u001b[43m(\u001b[49m\u001b[38;5;241;43m*\u001b[39;49m\u001b[43margs\u001b[49m\u001b[43m,\u001b[49m\u001b[43m \u001b[49m\u001b[38;5;241;43m*\u001b[39;49m\u001b[38;5;241;43m*\u001b[39;49m\u001b[43mkwargs\u001b[49m\u001b[43m)\u001b[49m\n\u001b[1;32m   1752\u001b[0m result \u001b[38;5;241m=\u001b[39m \u001b[38;5;28;01mNone\u001b[39;00m\n\u001b[1;32m   1753\u001b[0m called_always_called_hooks \u001b[38;5;241m=\u001b[39m \u001b[38;5;28mset\u001b[39m()\n",
      "Cell \u001b[0;32mIn[17], line 17\u001b[0m, in \u001b[0;36mLSTMModel.forward\u001b[0;34m(self, x)\u001b[0m\n\u001b[1;32m     16\u001b[0m \u001b[38;5;28;01mdef\u001b[39;00m\u001b[38;5;250m \u001b[39m\u001b[38;5;21mforward\u001b[39m(\u001b[38;5;28mself\u001b[39m, x):  \n\u001b[0;32m---> 17\u001b[0m     x, _ \u001b[38;5;241m=\u001b[39m \u001b[38;5;28;43mself\u001b[39;49m\u001b[38;5;241;43m.\u001b[39;49m\u001b[43mlstm\u001b[49m\u001b[43m(\u001b[49m\u001b[43mx\u001b[49m\u001b[43m)\u001b[49m\n\u001b[1;32m     18\u001b[0m     x \u001b[38;5;241m=\u001b[39m \u001b[38;5;28mself\u001b[39m\u001b[38;5;241m.\u001b[39mdropout(x)\n\u001b[1;32m     19\u001b[0m     x \u001b[38;5;241m=\u001b[39m \u001b[38;5;28mself\u001b[39m\u001b[38;5;241m.\u001b[39mlinear1(x)\n",
      "File \u001b[0;32m~/weather/venv/lib/python3.10/site-packages/torch/nn/modules/module.py:1739\u001b[0m, in \u001b[0;36mModule._wrapped_call_impl\u001b[0;34m(self, *args, **kwargs)\u001b[0m\n\u001b[1;32m   1737\u001b[0m     \u001b[38;5;28;01mreturn\u001b[39;00m \u001b[38;5;28mself\u001b[39m\u001b[38;5;241m.\u001b[39m_compiled_call_impl(\u001b[38;5;241m*\u001b[39margs, \u001b[38;5;241m*\u001b[39m\u001b[38;5;241m*\u001b[39mkwargs)  \u001b[38;5;66;03m# type: ignore[misc]\u001b[39;00m\n\u001b[1;32m   1738\u001b[0m \u001b[38;5;28;01melse\u001b[39;00m:\n\u001b[0;32m-> 1739\u001b[0m     \u001b[38;5;28;01mreturn\u001b[39;00m \u001b[38;5;28;43mself\u001b[39;49m\u001b[38;5;241;43m.\u001b[39;49m\u001b[43m_call_impl\u001b[49m\u001b[43m(\u001b[49m\u001b[38;5;241;43m*\u001b[39;49m\u001b[43margs\u001b[49m\u001b[43m,\u001b[49m\u001b[43m \u001b[49m\u001b[38;5;241;43m*\u001b[39;49m\u001b[38;5;241;43m*\u001b[39;49m\u001b[43mkwargs\u001b[49m\u001b[43m)\u001b[49m\n",
      "File \u001b[0;32m~/weather/venv/lib/python3.10/site-packages/torch/nn/modules/module.py:1750\u001b[0m, in \u001b[0;36mModule._call_impl\u001b[0;34m(self, *args, **kwargs)\u001b[0m\n\u001b[1;32m   1745\u001b[0m \u001b[38;5;66;03m# If we don't have any hooks, we want to skip the rest of the logic in\u001b[39;00m\n\u001b[1;32m   1746\u001b[0m \u001b[38;5;66;03m# this function, and just call forward.\u001b[39;00m\n\u001b[1;32m   1747\u001b[0m \u001b[38;5;28;01mif\u001b[39;00m \u001b[38;5;129;01mnot\u001b[39;00m (\u001b[38;5;28mself\u001b[39m\u001b[38;5;241m.\u001b[39m_backward_hooks \u001b[38;5;129;01mor\u001b[39;00m \u001b[38;5;28mself\u001b[39m\u001b[38;5;241m.\u001b[39m_backward_pre_hooks \u001b[38;5;129;01mor\u001b[39;00m \u001b[38;5;28mself\u001b[39m\u001b[38;5;241m.\u001b[39m_forward_hooks \u001b[38;5;129;01mor\u001b[39;00m \u001b[38;5;28mself\u001b[39m\u001b[38;5;241m.\u001b[39m_forward_pre_hooks\n\u001b[1;32m   1748\u001b[0m         \u001b[38;5;129;01mor\u001b[39;00m _global_backward_pre_hooks \u001b[38;5;129;01mor\u001b[39;00m _global_backward_hooks\n\u001b[1;32m   1749\u001b[0m         \u001b[38;5;129;01mor\u001b[39;00m _global_forward_hooks \u001b[38;5;129;01mor\u001b[39;00m _global_forward_pre_hooks):\n\u001b[0;32m-> 1750\u001b[0m     \u001b[38;5;28;01mreturn\u001b[39;00m \u001b[43mforward_call\u001b[49m\u001b[43m(\u001b[49m\u001b[38;5;241;43m*\u001b[39;49m\u001b[43margs\u001b[49m\u001b[43m,\u001b[49m\u001b[43m \u001b[49m\u001b[38;5;241;43m*\u001b[39;49m\u001b[38;5;241;43m*\u001b[39;49m\u001b[43mkwargs\u001b[49m\u001b[43m)\u001b[49m\n\u001b[1;32m   1752\u001b[0m result \u001b[38;5;241m=\u001b[39m \u001b[38;5;28;01mNone\u001b[39;00m\n\u001b[1;32m   1753\u001b[0m called_always_called_hooks \u001b[38;5;241m=\u001b[39m \u001b[38;5;28mset\u001b[39m()\n",
      "File \u001b[0;32m~/weather/venv/lib/python3.10/site-packages/torch/nn/modules/rnn.py:1124\u001b[0m, in \u001b[0;36mLSTM.forward\u001b[0;34m(self, input, hx)\u001b[0m\n\u001b[1;32m   1121\u001b[0m         hx \u001b[38;5;241m=\u001b[39m \u001b[38;5;28mself\u001b[39m\u001b[38;5;241m.\u001b[39mpermute_hidden(hx, sorted_indices)\n\u001b[1;32m   1123\u001b[0m \u001b[38;5;28;01mif\u001b[39;00m batch_sizes \u001b[38;5;129;01mis\u001b[39;00m \u001b[38;5;28;01mNone\u001b[39;00m:\n\u001b[0;32m-> 1124\u001b[0m     result \u001b[38;5;241m=\u001b[39m \u001b[43m_VF\u001b[49m\u001b[38;5;241;43m.\u001b[39;49m\u001b[43mlstm\u001b[49m\u001b[43m(\u001b[49m\n\u001b[1;32m   1125\u001b[0m \u001b[43m        \u001b[49m\u001b[38;5;28;43minput\u001b[39;49m\u001b[43m,\u001b[49m\n\u001b[1;32m   1126\u001b[0m \u001b[43m        \u001b[49m\u001b[43mhx\u001b[49m\u001b[43m,\u001b[49m\n\u001b[1;32m   1127\u001b[0m \u001b[43m        \u001b[49m\u001b[38;5;28;43mself\u001b[39;49m\u001b[38;5;241;43m.\u001b[39;49m\u001b[43m_flat_weights\u001b[49m\u001b[43m,\u001b[49m\u001b[43m  \u001b[49m\u001b[38;5;66;43;03m# type: ignore[arg-type]\u001b[39;49;00m\n\u001b[1;32m   1128\u001b[0m \u001b[43m        \u001b[49m\u001b[38;5;28;43mself\u001b[39;49m\u001b[38;5;241;43m.\u001b[39;49m\u001b[43mbias\u001b[49m\u001b[43m,\u001b[49m\n\u001b[1;32m   1129\u001b[0m \u001b[43m        \u001b[49m\u001b[38;5;28;43mself\u001b[39;49m\u001b[38;5;241;43m.\u001b[39;49m\u001b[43mnum_layers\u001b[49m\u001b[43m,\u001b[49m\n\u001b[1;32m   1130\u001b[0m \u001b[43m        \u001b[49m\u001b[38;5;28;43mself\u001b[39;49m\u001b[38;5;241;43m.\u001b[39;49m\u001b[43mdropout\u001b[49m\u001b[43m,\u001b[49m\n\u001b[1;32m   1131\u001b[0m \u001b[43m        \u001b[49m\u001b[38;5;28;43mself\u001b[39;49m\u001b[38;5;241;43m.\u001b[39;49m\u001b[43mtraining\u001b[49m\u001b[43m,\u001b[49m\n\u001b[1;32m   1132\u001b[0m \u001b[43m        \u001b[49m\u001b[38;5;28;43mself\u001b[39;49m\u001b[38;5;241;43m.\u001b[39;49m\u001b[43mbidirectional\u001b[49m\u001b[43m,\u001b[49m\n\u001b[1;32m   1133\u001b[0m \u001b[43m        \u001b[49m\u001b[38;5;28;43mself\u001b[39;49m\u001b[38;5;241;43m.\u001b[39;49m\u001b[43mbatch_first\u001b[49m\u001b[43m,\u001b[49m\n\u001b[1;32m   1134\u001b[0m \u001b[43m    \u001b[49m\u001b[43m)\u001b[49m\n\u001b[1;32m   1135\u001b[0m \u001b[38;5;28;01melse\u001b[39;00m:\n\u001b[1;32m   1136\u001b[0m     result \u001b[38;5;241m=\u001b[39m _VF\u001b[38;5;241m.\u001b[39mlstm(\n\u001b[1;32m   1137\u001b[0m         \u001b[38;5;28minput\u001b[39m,\n\u001b[1;32m   1138\u001b[0m         batch_sizes,\n\u001b[0;32m   (...)\u001b[0m\n\u001b[1;32m   1145\u001b[0m         \u001b[38;5;28mself\u001b[39m\u001b[38;5;241m.\u001b[39mbidirectional,\n\u001b[1;32m   1146\u001b[0m     )\n",
      "\u001b[0;31mOutOfMemoryError\u001b[0m: CUDA out of memory. Tried to allocate 19.59 GiB. GPU 0 has a total capacity of 15.77 GiB of which 11.16 GiB is free. Including non-PyTorch memory, this process has 2.99 GiB memory in use. Of the allocated memory 2.45 GiB is allocated by PyTorch, and 38.78 MiB is reserved by PyTorch but unallocated. If reserved but unallocated memory is large try setting PYTORCH_CUDA_ALLOC_CONF=expandable_segments:True to avoid fragmentation.  See documentation for Memory Management  (https://pytorch.org/docs/stable/notes/cuda.html#environment-variables)"
     ]
    }
   ],
   "source": [
    "best_score = None\n",
    "best_weights = None\n",
    "best_train_preds = None\n",
    "best_test_preds = None\n",
    "\n",
    "n_epochs = 200\n",
    "\n",
    "for epoch in range(n_epochs):\n",
    "    model.train()\n",
    "    for X_batch, y_batch in loader:\n",
    "        X_batch, y_batch = X_batch.to(device), y_batch.to(device)\n",
    "        y_pred = model(X_batch)\n",
    "        loss = loss_fn(y_pred.squeeze(), y_batch)\n",
    "        optimizer.zero_grad()\n",
    "        loss.backward()\n",
    "        optimizer.step()\n",
    "\n",
    "    model.eval()\n",
    "    \n",
    "    with torch.no_grad():\n",
    "        X_train_device = X_train.to(device)\n",
    "        y_train_device = y_train.to(device)\n",
    "        y_pred = model(X_train_device)\n",
    "        train_rmse = np.sqrt(loss_fn(y_pred, y_train_device.unsqueeze(2)))\n",
    "        train_preds = y_pred.clone().detach().cpu().numpy()\n",
    "\n",
    "        X_test_device = X_test.to(device)\n",
    "        y_test_device = y_test.to(device)\n",
    "        y_pred = model(X_test_device)\n",
    "        test_rmse = np.sqrt(loss_fn(y_pred, y_test_device.unsqueeze(2)))\n",
    "        test_preds = y_pred.clone().detach().cpu().numpy()\n",
    "\n",
    "        # Update the learning rate scheduler and early stopping\n",
    "        scheduler.step(test_rmse)\n",
    "        \n",
    "        if best_score is None or test_rmse < best_score:\n",
    "            best_score = test_rmse\n",
    "            best_weights = model.state_dict()\n",
    "            best_train_preds = train_preds\n",
    "            best_test_preds = test_preds\n",
    "        \n",
    "        early_stopping(test_rmse, model, X_test)\n",
    "        \n",
    "        # Check if early stopping criterion is met\n",
    "        if early_stopping.early_stop:\n",
    "            print(\"Early stopping\")\n",
    "            break\n",
    "            \n",
    "    if epoch % 10 == 0:\n",
    "        print('*'*10, 'Epoch: ', epoch, '\\ train RMSE: ', train_rmse, '\\ test RMSE', test_rmse)"
   ]
  },
  {
   "cell_type": "code",
   "execution_count": null,
   "id": "011df057",
   "metadata": {},
   "outputs": [],
   "source": [
    "if best_weights is not None:\n",
    "    model.load_state_dict(best_weights)\n",
    "    \n",
    "    # Use the best weights to generate predictions\n",
    "    with torch.no_grad():\n",
    "        y_pred_train = model(X_train).clone().detach().cpu().numpy()\n",
    "        y_pred_test = model(X_test).clone().detach().cpu().numpy()"
   ]
  },
  {
   "cell_type": "code",
   "execution_count": null,
   "id": "93bdbd30",
   "metadata": {},
   "outputs": [],
   "source": [
    "with torch.no_grad():\n",
    "    train_plot = np.ones_like(new_timeseries) * np.nan\n",
    "    train_plot[lookback: len(train)] = y_pred_train[:,-1,:]\n",
    "    \n",
    "    test_plot = np.ones_like(new_timeseries) * np.nan\n",
    "    test_plot[len(train)+lookback:len(new_timeseries)] = y_pred_test[:,-1,:]"
   ]
  },
  {
   "cell_type": "code",
   "execution_count": null,
   "id": "aabbd0dd",
   "metadata": {},
   "outputs": [],
   "source": [
    "train_predictions = scaler.inverse_transform(train_plot)\n",
    "test_predictions = scaler.inverse_transform(test_plot)"
   ]
  },
  {
   "cell_type": "code",
   "execution_count": null,
   "id": "e2857194",
   "metadata": {},
   "outputs": [],
   "source": [
    "import plotly.express as px\n",
    "import plotly.graph_objects as go"
   ]
  },
  {
   "cell_type": "code",
   "execution_count": null,
   "id": "887f75e4",
   "metadata": {},
   "outputs": [],
   "source": [
    "plt.figure(figsize=(20,10))\n",
    "plt.plot(new_timeseries[:,6], c = 'b')\n",
    "plt.plot(train_predictions[:,6], c='r')\n",
    "plt.plot(test_predictions[:,6], c='g')\n",
    "\n",
    "\n",
    "# plt.xlim([500,1000])\n",
    "# plt.ylim([100000, 7000ㅋ00])\n",
    "plt.show()"
   ]
  },
  {
   "cell_type": "code",
   "execution_count": null,
   "id": "073b2632",
   "metadata": {},
   "outputs": [],
   "source": [
    "eval_df = pd.concat([test_df['meantemp'].reset_index(),\n",
    "                  pd.Series(test_predictions[:,6][len(train):].reshape(-1).tolist())],axis=1).drop('index',axis=1)\n",
    "\n",
    "eval_df.columns = ['real_meantemp', 'pred_meantemp']"
   ]
  },
  {
   "cell_type": "code",
   "execution_count": null,
   "id": "e825568e",
   "metadata": {},
   "outputs": [],
   "source": [
    "fig = go.Figure(data = [\n",
    "    go.Line(x = eval_df.index, y = eval_df['real_meantemp'], name = \"Actual\"),\n",
    "    go.Line(x = eval_df.index, y = eval_df['pred_meantemp'], name=\"Predict\"),\n",
    "])\n",
    "\n",
    "fig.update_layout(\n",
    "    font = dict(size=17,family=\"Franklin Gothic\"),\n",
    "    template = 'simple_white',\n",
    "    title = 'Real & Predicted Temp')\n",
    "\n",
    "fig.show()"
   ]
  },
  {
   "cell_type": "code",
   "execution_count": null,
   "id": "c0ab68c7",
   "metadata": {},
   "outputs": [],
   "source": [
    "np.sqrt(mean_squared_error(eval_df.iloc[7:]['real_meantemp'], eval_df.iloc[7:]['pred_meantemp']))"
   ]
  }
 ],
 "metadata": {
  "kernelspec": {
   "display_name": "venv",
   "language": "python",
   "name": "python3"
  },
  "language_info": {
   "codemirror_mode": {
    "name": "ipython",
    "version": 3
   },
   "file_extension": ".py",
   "mimetype": "text/x-python",
   "name": "python",
   "nbconvert_exporter": "python",
   "pygments_lexer": "ipython3",
   "version": "3.10.12"
  }
 },
 "nbformat": 4,
 "nbformat_minor": 5
}
